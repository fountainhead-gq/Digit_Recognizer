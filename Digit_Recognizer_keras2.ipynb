{
 "cells": [
  {
   "cell_type": "code",
   "execution_count": 1,
   "metadata": {
    "collapsed": false
   },
   "outputs": [
    {
     "name": "stderr",
     "output_type": "stream",
     "text": [
      "Using TensorFlow backend.\n"
     ]
    }
   ],
   "source": [
    "import pandas as pd\n",
    "import numpy as np\n",
    "import matplotlib.pyplot as plt\n",
    "import seaborn as sns\n",
    "\n",
    "from keras.utils.np_utils import to_categorical \n",
    "from keras.models import Sequential\n",
    "from keras.layers import Dense, Dropout, Flatten, Conv2D, MaxPool2D\n",
    "from keras.optimizers import RMSprop, Adam\n",
    "from keras.preprocessing.image import ImageDataGenerator\n",
    "from keras.callbacks import ReduceLROnPlateau, Callback, TensorBoard,  History\n",
    "\n",
    "from sklearn.model_selection import train_test_split\n",
    "from sklearn.metrics import confusion_matrix\n",
    "import itertools\n",
    "%matplotlib inline\n"
   ]
  },
  {
   "cell_type": "code",
   "execution_count": 2,
   "metadata": {
    "collapsed": false
   },
   "outputs": [
    {
     "name": "stdout",
     "output_type": "stream",
     "text": [
      "(42000, 785)\n",
      "(42000, 784)\n"
     ]
    }
   ],
   "source": [
    "# 准备数据\n",
    "train = pd.read_csv('data/train.csv')\n",
    "test = pd.read_csv('data/test.csv')\n",
    "\n",
    "X_train = train.drop('label', axis=1)\n",
    "Y_train = train['label']\n",
    "\n",
    "print(train.shape)\n",
    "print(X_train.shape)\n",
    "# Y_train.value_counts()"
   ]
  },
  {
   "cell_type": "code",
   "execution_count": 3,
   "metadata": {
    "collapsed": false
   },
   "outputs": [
    {
     "data": {
      "image/png": "[encoded data removed]",
      "text/plain": [
       "<matplotlib.figure.Figure at 0x6f432e8>"
      ]
     },
     "metadata": {},
     "output_type": "display_data"
    }
   ],
   "source": [
    "# 直方图\n",
    "y_ax = sns.countplot(Y_train)"
   ]
  },
  {
   "cell_type": "code",
   "execution_count": 4,
   "metadata": {
    "collapsed": false
   },
   "outputs": [
    {
     "name": "stdout",
     "output_type": "stream",
     "text": [
      "(42000, 28, 28, 1)\n"
     ]
    }
   ],
   "source": [
    "#归一化\n",
    "def normalize(x):\n",
    "    X_normale = (x-np.min(x))/(np.max(x)-np.min(x))\n",
    "    return X_normale\n",
    "\n",
    "# or\n",
    "def normalize1(x):\n",
    "    X_normale = x/255.\n",
    "    return X_normale\n",
    "\n",
    "\n",
    "X_train = normalize(X_train.values)\n",
    "test = normalize(test.values)\n",
    "\n",
    "# image 28*28*1\n",
    "X_train = X_train.reshape(-1,28,28,1)\n",
    "test = test.reshape(-1,28,28,1)\n",
    "print(X_train.shape)"
   ]
  },
  {
   "cell_type": "code",
   "execution_count": 5,
   "metadata": {
    "collapsed": false
   },
   "outputs": [],
   "source": [
    "#  one hot vectors (ex : 2 -> [0,0,1,0,0,0,0,0,0,0])\n",
    "Y_train = to_categorical(Y_train, num_classes = 10)"
   ]
  },
  {
   "cell_type": "code",
   "execution_count": 6,
   "metadata": {
    "collapsed": true
   },
   "outputs": [],
   "source": [
    "# 数据集划分\n",
    "X_train, X_test, Y_train, Y_test = train_test_split(X_train, Y_train, test_size=0.05, random_state=42)"
   ]
  },
  {
   "cell_type": "code",
   "execution_count": 7,
   "metadata": {
    "collapsed": false
   },
   "outputs": [
    {
     "data": {
      "text/plain": [
       "<matplotlib.image.AxesImage at 0xdfb3358>"
      ]
     },
     "execution_count": 7,
     "metadata": {},
     "output_type": "execute_result"
    },
    {
     "data": {
      "image/png": "[encoded data removed]",
      "text/plain": [
       "<matplotlib.figure.Figure at 0xeeb3438>"
      ]
     },
     "metadata": {},
     "output_type": "display_data"
    }
   ],
   "source": [
    "plt.imshow(X_train[1][:,:,0])"
   ]
  },
  {
   "cell_type": "code",
   "execution_count": 8,
   "metadata": {
    "collapsed": true
   },
   "outputs": [],
   "source": [
    "class LossHistory(Callback):\n",
    "    def on_train_begin(self, logs={}):\n",
    "        self.losses = {'batch':[], 'epoch':[]}\n",
    "        self.accuracy = {'batch':[], 'epoch':[]}\n",
    "        self.val_loss = {'batch':[], 'epoch':[]}\n",
    "        self.val_acc = {'batch':[], 'epoch':[]}\n",
    "\n",
    "    def on_batch_end(self, batch, logs={}):\n",
    "        self.losses['batch'].append(logs.get('loss'))\n",
    "        self.accuracy['batch'].append(logs.get('acc'))\n",
    "        self.val_loss['batch'].append(logs.get('val_loss'))\n",
    "        self.val_acc['batch'].append(logs.get('val_acc'))\n",
    "        \n",
    "    def on_epoch_end(self, batch, logs={}):\n",
    "        self.losses['epoch'].append(logs.get('loss'))\n",
    "        self.accuracy['epoch'].append(logs.get('acc'))\n",
    "        self.val_loss['epoch'].append(logs.get('val_loss'))\n",
    "        self.val_acc['epoch'].append(logs.get('val_acc'))\n",
    "        \n",
    "    def loss_plot(self, loss_type):\n",
    "        iters = range(len(self.losses[loss_type]))\n",
    "        plt.figure()\n",
    "        # acc\n",
    "        plt.plot(iters, self.accuracy[loss_type], 'r', label='train acc')\n",
    "        # loss\n",
    "        plt.plot(iters, self.losses[loss_type], 'g', label='train loss')\n",
    "        if loss_type == 'epoch':\n",
    "            # val_acc\n",
    "            plt.plot(iters, self.val_acc[loss_type], 'b', label='val acc')\n",
    "            # val_loss\n",
    "            plt.plot(iters, self.val_loss[loss_type], 'k', label='val loss')\n",
    "        plt.grid(True)\n",
    "        plt.xlabel(loss_type)\n",
    "        plt.ylabel('acc-loss')\n",
    "        plt.legend(loc=\"upper right\")\n",
    "        plt.show()"
   ]
  },
  {
   "cell_type": "code",
   "execution_count": 9,
   "metadata": {
    "collapsed": true
   },
   "outputs": [],
   "source": [
    "# SCNN model \n",
    "# In -> [[Conv2D->relu]*2 -> MaxPool2D -> Dropout]*2 -> Flatten -> Dense -> Dropout -> Out\n",
    "\n",
    "model = Sequential()\n",
    "\n",
    "# input: 28x28 images with 1 channels -> (28, 28, 1) tensors.\n",
    "model.add(Conv2D(filters = 32, kernel_size = (4,4), padding = 'Same', \n",
    "                 activation ='relu', input_shape = (28,28,1)))\n",
    "model.add(Conv2D(filters = 32, kernel_size = (4,4), padding = 'Same', \n",
    "                 activation ='relu'))\n",
    "model.add(MaxPool2D(pool_size=(2,2)))\n",
    "model.add(Dropout(0.25))\n",
    "\n",
    "model.add(Conv2D(filters = 64, kernel_size = (3,3), padding = 'Same', \n",
    "                 activation ='relu'))\n",
    "model.add(Conv2D(filters = 64, kernel_size = (3,3), padding = 'Same', \n",
    "                 activation ='relu'))\n",
    "model.add(MaxPool2D(pool_size=(2,2), strides=(2,2)))\n",
    "model.add(Dropout(0.25))\n",
    "\n",
    "model.add(Flatten())\n",
    "model.add(Dense(128, activation = \"relu\"))\n",
    "model.add(Dropout(0.5))\n",
    "model.add(Dense(10, activation = \"softmax\"))"
   ]
  },
  {
   "cell_type": "code",
   "execution_count": 10,
   "metadata": {
    "collapsed": true
   },
   "outputs": [],
   "source": [
    "# Define the optimizer\n",
    "optimizer = Adam(lr=0.001, beta_1=0.9, beta_2=0.999, epsilon=1e-08)"
   ]
  },
  {
   "cell_type": "code",
   "execution_count": 11,
   "metadata": {
    "collapsed": true
   },
   "outputs": [],
   "source": [
    "# Compile the model\n",
    "model.compile(optimizer = optimizer , loss = \"categorical_crossentropy\", metrics=[\"accuracy\"])"
   ]
  },
  {
   "cell_type": "code",
   "execution_count": 12,
   "metadata": {
    "collapsed": true
   },
   "outputs": [],
   "source": [
    "# Set a learning rate annealer\n",
    "learning_rate_reduction = ReduceLROnPlateau(monitor='val_acc', \n",
    "                                            patience=5, \n",
    "                                            verbose=0,\n",
    "                                            epsilon=0.0001,\n",
    "                                            factor=0.5, \n",
    "                                            min_lr=0)"
   ]
  },
  {
   "cell_type": "code",
   "execution_count": 13,
   "metadata": {
    "collapsed": true
   },
   "outputs": [],
   "source": [
    "epochs = 55 \n",
    "batch_size = 128\n",
    "loss_history = LossHistory()"
   ]
  },
  {
   "cell_type": "code",
   "execution_count": 14,
   "metadata": {
    "collapsed": true
   },
   "outputs": [],
   "source": [
    "# prevent overfitting\n",
    "\n",
    "datagen = ImageDataGenerator(featurewise_center=False,  # set input mean to 0 over the dataset\n",
    "                             samplewise_center=False,  # set each sample mean to 0\n",
    "                             featurewise_std_normalization=False,  # divide inputs by std of the dataset\n",
    "                             samplewise_std_normalization=False,  # divide each input by its std\n",
    "                             zca_whitening=False,  # apply ZCA whitening\n",
    "                             rotation_range=20,  # randomly rotate images in the range (degrees, 0 to 180)\n",
    "                             zoom_range = 0.1, # Randomly zoom image \n",
    "                             width_shift_range=0.1,  # randomly shift images horizontally (fraction of total width)\n",
    "                             height_shift_range=0.1,  # randomly shift images vertically (fraction of total height)\n",
    "                             horizontal_flip=False,  # randomly flip images\n",
    "                             vertical_flip=False)  # randomly flip images\n",
    "\n",
    "\n",
    "datagen.fit(X_train)"
   ]
  },
  {
   "cell_type": "code",
   "execution_count": 15,
   "metadata": {
    "collapsed": false
   },
   "outputs": [
    {
     "name": "stdout",
     "output_type": "stream",
     "text": [
      "Epoch 1/55\n",
      " - 178s - loss: 0.6411 - acc: 0.7908 - val_loss: 0.0818 - val_acc: 0.9762\n",
      "Epoch 2/55\n",
      " - 162s - loss: 0.2248 - acc: 0.9334 - val_loss: 0.0642 - val_acc: 0.9814\n",
      "Epoch 3/55\n",
      " - 161s - loss: 0.1670 - acc: 0.9509 - val_loss: 0.0529 - val_acc: 0.9862\n",
      "Epoch 4/55\n",
      " - 162s - loss: 0.1335 - acc: 0.9609 - val_loss: 0.0430 - val_acc: 0.9871\n",
      "Epoch 5/55\n",
      " - 163s - loss: 0.1214 - acc: 0.9648 - val_loss: 0.0392 - val_acc: 0.9905\n",
      "Epoch 6/55\n",
      " - 168s - loss: 0.1046 - acc: 0.9697 - val_loss: 0.0311 - val_acc: 0.9910\n",
      "Epoch 7/55\n",
      " - 167s - loss: 0.0966 - acc: 0.9712 - val_loss: 0.0447 - val_acc: 0.9886\n",
      "Epoch 8/55\n",
      " - 160s - loss: 0.0925 - acc: 0.9726 - val_loss: 0.0376 - val_acc: 0.9914\n",
      "Epoch 9/55\n",
      " - 160s - loss: 0.0863 - acc: 0.9753 - val_loss: 0.0370 - val_acc: 0.9905\n",
      "Epoch 10/55\n",
      " - 160s - loss: 0.0827 - acc: 0.9748 - val_loss: 0.0297 - val_acc: 0.9905\n",
      "Epoch 11/55\n",
      " - 162s - loss: 0.0766 - acc: 0.9777 - val_loss: 0.0293 - val_acc: 0.9910\n",
      "Epoch 12/55\n",
      " - 171s - loss: 0.0758 - acc: 0.9775 - val_loss: 0.0259 - val_acc: 0.9924\n",
      "Epoch 13/55\n",
      " - 162s - loss: 0.0735 - acc: 0.9785 - val_loss: 0.0255 - val_acc: 0.9938\n",
      "Epoch 14/55\n",
      " - 160s - loss: 0.0707 - acc: 0.9798 - val_loss: 0.0281 - val_acc: 0.9929\n",
      "Epoch 15/55\n",
      " - 160s - loss: 0.0699 - acc: 0.9800 - val_loss: 0.0210 - val_acc: 0.9933\n",
      "Epoch 16/55\n",
      " - 161s - loss: 0.0660 - acc: 0.9806 - val_loss: 0.0276 - val_acc: 0.9933\n",
      "Epoch 17/55\n",
      " - 169s - loss: 0.0613 - acc: 0.9820 - val_loss: 0.0241 - val_acc: 0.9919\n",
      "Epoch 18/55\n",
      " - 167s - loss: 0.0635 - acc: 0.9810 - val_loss: 0.0209 - val_acc: 0.9943\n",
      "Epoch 19/55\n",
      " - 160s - loss: 0.0632 - acc: 0.9808 - val_loss: 0.0258 - val_acc: 0.9933\n",
      "Epoch 20/55\n",
      " - 160s - loss: 0.0595 - acc: 0.9824 - val_loss: 0.0254 - val_acc: 0.9929\n",
      "Epoch 21/55\n",
      " - 160s - loss: 0.0555 - acc: 0.9844 - val_loss: 0.0239 - val_acc: 0.9933\n",
      "Epoch 22/55\n",
      " - 162s - loss: 0.0560 - acc: 0.9836 - val_loss: 0.0297 - val_acc: 0.9933\n",
      "Epoch 23/55\n",
      " - 172s - loss: 0.0557 - acc: 0.9829 - val_loss: 0.0245 - val_acc: 0.9938\n",
      "Epoch 24/55\n",
      " - 162s - loss: 0.0565 - acc: 0.9839 - val_loss: 0.0221 - val_acc: 0.9943\n",
      "Epoch 25/55\n",
      " - 160s - loss: 0.0463 - acc: 0.9860 - val_loss: 0.0178 - val_acc: 0.9938\n",
      "Epoch 26/55\n",
      " - 160s - loss: 0.0458 - acc: 0.9867 - val_loss: 0.0204 - val_acc: 0.9948\n",
      "Epoch 27/55\n",
      " - 161s - loss: 0.0466 - acc: 0.9869 - val_loss: 0.0198 - val_acc: 0.9952\n",
      "Epoch 28/55\n",
      " - 167s - loss: 0.0430 - acc: 0.9873 - val_loss: 0.0228 - val_acc: 0.9929\n",
      "Epoch 29/55\n",
      " - 168s - loss: 0.0387 - acc: 0.9884 - val_loss: 0.0267 - val_acc: 0.9938\n",
      "Epoch 30/55\n",
      " - 160s - loss: 0.0419 - acc: 0.9878 - val_loss: 0.0188 - val_acc: 0.9933\n",
      "Epoch 31/55\n",
      " - 160s - loss: 0.0427 - acc: 0.9881 - val_loss: 0.0206 - val_acc: 0.9938\n",
      "Epoch 32/55\n",
      " - 160s - loss: 0.0424 - acc: 0.9886 - val_loss: 0.0199 - val_acc: 0.9948\n",
      "Epoch 33/55\n",
      " - 161s - loss: 0.0425 - acc: 0.9875 - val_loss: 0.0211 - val_acc: 0.9933\n",
      "Epoch 34/55\n",
      " - 171s - loss: 0.0386 - acc: 0.9886 - val_loss: 0.0210 - val_acc: 0.9938\n",
      "Epoch 35/55\n",
      " - 163s - loss: 0.0322 - acc: 0.9908 - val_loss: 0.0222 - val_acc: 0.9933\n",
      "Epoch 36/55\n",
      " - 160s - loss: 0.0349 - acc: 0.9890 - val_loss: 0.0197 - val_acc: 0.9933\n",
      "Epoch 37/55\n",
      " - 41336s - loss: 0.0338 - acc: 0.9900 - val_loss: 0.0202 - val_acc: 0.9933\n",
      "Epoch 38/55\n",
      " - 178s - loss: 0.0367 - acc: 0.9892 - val_loss: 0.0207 - val_acc: 0.9938\n",
      "Epoch 39/55\n",
      " - 165s - loss: 0.0306 - acc: 0.9911 - val_loss: 0.0192 - val_acc: 0.9943\n",
      "Epoch 40/55\n",
      " - 165s - loss: 0.0344 - acc: 0.9898 - val_loss: 0.0175 - val_acc: 0.9938\n",
      "Epoch 41/55\n",
      " - 172s - loss: 0.0309 - acc: 0.9909 - val_loss: 0.0183 - val_acc: 0.9938\n",
      "Epoch 42/55\n",
      " - 159s - loss: 0.0315 - acc: 0.9908 - val_loss: 0.0185 - val_acc: 0.9933\n",
      "Epoch 43/55\n",
      " - 159s - loss: 0.0299 - acc: 0.9910 - val_loss: 0.0208 - val_acc: 0.9948\n",
      "Epoch 44/55\n",
      " - 159s - loss: 0.0317 - acc: 0.9911 - val_loss: 0.0212 - val_acc: 0.9943\n",
      "Epoch 45/55\n",
      " - 159s - loss: 0.0284 - acc: 0.9913 - val_loss: 0.0201 - val_acc: 0.9943\n",
      "Epoch 46/55\n",
      " - 168s - loss: 0.0307 - acc: 0.9906 - val_loss: 0.0180 - val_acc: 0.9943\n",
      "Epoch 47/55\n",
      " - 165s - loss: 0.0304 - acc: 0.9910 - val_loss: 0.0179 - val_acc: 0.9943\n",
      "Epoch 48/55\n",
      " - 1974s - loss: 0.0286 - acc: 0.9918 - val_loss: 0.0178 - val_acc: 0.9943\n",
      "Epoch 49/55\n",
      " - 185s - loss: 0.0263 - acc: 0.9923 - val_loss: 0.0181 - val_acc: 0.9948\n",
      "Epoch 50/55\n",
      " - 170s - loss: 0.0293 - acc: 0.9915 - val_loss: 0.0189 - val_acc: 0.9952\n",
      "Epoch 51/55\n",
      " - 174s - loss: 0.0297 - acc: 0.9914 - val_loss: 0.0183 - val_acc: 0.9948\n",
      "Epoch 52/55\n",
      " - 173s - loss: 0.0303 - acc: 0.9909 - val_loss: 0.0175 - val_acc: 0.9952\n",
      "Epoch 53/55\n",
      " - 169s - loss: 0.0286 - acc: 0.9915 - val_loss: 0.0179 - val_acc: 0.9948\n",
      "Epoch 54/55\n",
      " - 162s - loss: 0.0285 - acc: 0.9912 - val_loss: 0.0183 - val_acc: 0.9948\n",
      "Epoch 55/55\n",
      " - 164s - loss: 0.0266 - acc: 0.9921 - val_loss: 0.0181 - val_acc: 0.9948\n"
     ]
    }
   ],
   "source": [
    "# Fit the model\n",
    "history = model.fit_generator(datagen.flow(X_train, Y_train, batch_size=batch_size),\n",
    "                              epochs = epochs, \n",
    "                              validation_data = (X_test, Y_test),\n",
    "                              verbose = 2, \n",
    "                              steps_per_epoch = len(X_train)// batch_size, \n",
    "                              callbacks = [learning_rate_reduction, loss_history])"
   ]
  },
  {
   "cell_type": "code",
   "execution_count": 16,
   "metadata": {
    "collapsed": false
   },
   "outputs": [
    {
     "data": {
      "image/png": "[encoded data removed]",
      "text/plain": [
       "<matplotlib.figure.Figure at 0xdf74080>"
      ]
     },
     "metadata": {},
     "output_type": "display_data"
    }
   ],
   "source": [
    "loss_history.loss_plot('epoch')"
   ]
  },
  {
   "cell_type": "code",
   "execution_count": 17,
   "metadata": {
    "collapsed": false
   },
   "outputs": [
    {
     "data": {
      "image/png": "[encoded data removed]",
      "text/plain": [
       "<matplotlib.figure.Figure at 0xecb2518>"
      ]
     },
     "metadata": {},
     "output_type": "display_data"
    }
   ],
   "source": [
    "# Plot the loss and accuracy curves for training and validation \n",
    "fig, ax = plt.subplots(2,1)\n",
    "ax[0].plot(history.history['loss'], color='b', label=\"Training loss\")\n",
    "ax[0].plot(history.history['val_loss'], color='r', label=\"validation loss\",axes =ax[0])\n",
    "legend = ax[0].legend(loc='best', shadow=True)\n",
    "\n",
    "ax[1].plot(history.history['acc'], color='b', label=\"Training accuracy\")\n",
    "ax[1].plot(history.history['val_acc'], color='r',label=\"Validation accuracy\")\n",
    "legend = ax[1].legend(loc='best', shadow=True)"
   ]
  },
  {
   "cell_type": "code",
   "execution_count": 18,
   "metadata": {
    "collapsed": false
   },
   "outputs": [],
   "source": [
    "# Look at confusion matrix \n",
    "def plot_confusion_matrix(cm, classes, normalize=False, title='Confusion matrix', cmap=plt.cm.Blues):\n",
    "    \"\"\"\n",
    "    This function prints and plots the confusion matrix.\n",
    "    Normalization can be applied by setting `normalize=True`.\n",
    "    \"\"\"\n",
    "    plt.imshow(cm, interpolation='nearest', cmap=cmap)\n",
    "    plt.title(title)\n",
    "    plt.colorbar()\n",
    "    tick_marks = np.arange(len(classes))\n",
    "    plt.xticks(tick_marks, classes, rotation=45)\n",
    "    plt.yticks(tick_marks, classes)\n",
    "\n",
    "    if normalize:\n",
    "        cm = cm.astype('float') / cm.sum(axis=1)[:, np.newaxis]\n",
    "\n",
    "    thresh = cm.max() / 2.\n",
    "    for i, j in itertools.product(range(cm.shape[0]), range(cm.shape[1])):\n",
    "        plt.text(j, i, cm[i, j], horizontalalignment=\"center\", color=\"white\" if cm[i, j] > thresh else \"black\")\n",
    "\n",
    "    plt.tight_layout()\n",
    "    plt.ylabel('True label')\n",
    "    plt.xlabel('Predicted label')\n"
   ]
  },
  {
   "cell_type": "code",
   "execution_count": 19,
   "metadata": {
    "collapsed": false
   },
   "outputs": [
    {
     "data": {
      "image/png": "[encoded data removed]",
      "text/plain": [
       "<matplotlib.figure.Figure at 0xe19be80>"
      ]
     },
     "metadata": {},
     "output_type": "display_data"
    }
   ],
   "source": [
    "# Predict the values from the validation dataset\n",
    "Y_pred = model.predict(X_test)\n",
    "# Convert predictions classes to one hot vectors \n",
    "Y_pred_classes = np.argmax(Y_pred,axis = 1) \n",
    "# Convert validation observations to one hot vectors\n",
    "Y_true = np.argmax(Y_test,axis = 1) \n",
    "# compute the confusion matrix\n",
    "confusion_mtx = confusion_matrix(Y_true, Y_pred_classes) \n",
    "\n",
    "# plot the confusion matrix\n",
    "plot_confusion_matrix(confusion_mtx, classes = range(10)) "
   ]
  },
  {
   "cell_type": "code",
   "execution_count": 20,
   "metadata": {
    "collapsed": true
   },
   "outputs": [],
   "source": [
    "def display_errors(errors_index, img_errors, pred_errors, obs_errors):\n",
    "    \"\"\" This function shows 6 images with their predicted and real labels\"\"\"\n",
    "    n = 0\n",
    "    nrows = 2\n",
    "    ncols = 3\n",
    "    fig, ax = plt.subplots(nrows, ncols, sharex=True, sharey=True)\n",
    "    for row in range(nrows):\n",
    "        for col in range(ncols):\n",
    "            error = errors_index[n]\n",
    "            ax[row,col].imshow((img_errors[error]).reshape((28,28)))\n",
    "            ax[row,col].set_title(\"Predicted label :{}\\n True label :{}\".format(pred_errors[error],obs_errors[error]))\n",
    "            n += 1"
   ]
  },
  {
   "cell_type": "code",
   "execution_count": 21,
   "metadata": {
    "collapsed": false
   },
   "outputs": [
    {
     "data": {
      "image/png": "[encoded data removed]",
      "text/plain": [
       "<matplotlib.figure.Figure at 0xf08f3c8>"
      ]
     },
     "metadata": {},
     "output_type": "display_data"
    }
   ],
   "source": [
    "\n",
    "# Errors are difference between predicted labels and true labels\n",
    "errors = (Y_pred_classes - Y_true != 0)\n",
    "Y_pred_classes_errors = Y_pred_classes[errors]\n",
    "Y_pred_errors = Y_pred[errors]\n",
    "Y_true_errors = Y_true[errors]\n",
    "X_val_errors = X_test[errors]\n",
    "\n",
    "\n",
    "\n",
    "# Probabilities of the wrong predicted numbers\n",
    "Y_pred_errors_prob = np.max(Y_pred_errors,axis = 1)\n",
    "\n",
    "# Predicted probabilities of the true values in the error set\n",
    "true_prob_errors = np.diagonal(np.take(Y_pred_errors, Y_true_errors, axis=1))\n",
    "\n",
    "# Difference between the probability of the predicted label and the true label\n",
    "delta_pred_true_errors = Y_pred_errors_prob - true_prob_errors\n",
    "\n",
    "# Sorted list of the delta prob errors\n",
    "sorted_dela_errors = np.argsort(delta_pred_true_errors)\n",
    "\n",
    "# Top 6 errors \n",
    "most_important_errors = sorted_dela_errors[-6:]\n",
    "\n",
    "# Show the top 6 errors\n",
    "display_errors(most_important_errors, X_val_errors, Y_pred_classes_errors, Y_true_errors)"
   ]
  },
  {
   "cell_type": "code",
   "execution_count": 22,
   "metadata": {
    "collapsed": false
   },
   "outputs": [],
   "source": [
    "# predict results\n",
    "results = model.predict(test)\n",
    "\n",
    "# select the indix with the maximum probability\n",
    "results = np.argmax(results,axis = 1)\n",
    "\n",
    "#results = pd.Series(results,name=\"Label\")"
   ]
  },
  {
   "cell_type": "code",
   "execution_count": 23,
   "metadata": {
    "collapsed": true
   },
   "outputs": [],
   "source": [
    "submission = pd.DataFrame(data = {'ImageId':(np.arange(len(test))+1), 'Label': results})\n",
    "submission.to_csv('digit_recognizer_submission.csv',index=False)"
   ]
  },
  {
   "cell_type": "code",
   "execution_count": null,
   "metadata": {
    "collapsed": true
   },
   "outputs": [],
   "source": [
    "# submission = pd.concat([pd.Series(range(1,28001),name = \"ImageId\"),results],axis = 1)\n",
    "# submission.to_csv(\"digit_recognizer_submission.csv\",index=False)"
   ]
  }
 ],
 "metadata": {
  "kernelspec": {
   "display_name": "python3.5",
   "language": "python",
   "name": "python3.5"
  },
  "language_info": {
   "codemirror_mode": {
    "name": "ipython",
    "version": 3
   },
   "file_extension": ".py",
   "mimetype": "text/x-python",
   "name": "python",
   "nbconvert_exporter": "python",
   "pygments_lexer": "ipython3",
   "version": "3.5.3"
  },
  "latex_envs": {
   "LaTeX_envs_menu_present": true,
   "autocomplete": true,
   "bibliofile": "biblio.bib",
   "cite_by": "apalike",
   "current_citInitial": 1,
   "eqLabelWithNumbers": true,
   "eqNumInitial": 1,
   "hotkeys": {
    "equation": "Ctrl-E",
    "itemize": "Ctrl-I"
   },
   "labels_anchors": false,
   "latex_user_defs": false,
   "report_style_numbering": false,
   "user_envs_cfg": false
  }
 },
 "nbformat": 4,
 "nbformat_minor": 2
}
