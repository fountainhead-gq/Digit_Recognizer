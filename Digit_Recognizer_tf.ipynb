{
 "cells": [
  {
   "cell_type": "code",
   "execution_count": 2,
   "metadata": {
    "collapsed": true
   },
   "outputs": [],
   "source": [
    "import tensorflow as tf\n",
    "import numpy as np\n",
    "import pandas as pd\n",
    "import matplotlib.pyplot as plt\n",
    "import seaborn as sns\n",
    "import math\n",
    "%matplotlib inline"
   ]
  },
  {
   "cell_type": "code",
   "execution_count": 3,
   "metadata": {
    "collapsed": false
   },
   "outputs": [
    {
     "data": {
      "text/plain": [
       "(42000, 785)"
      ]
     },
     "execution_count": 3,
     "metadata": {},
     "output_type": "execute_result"
    }
   ],
   "source": [
    "train = pd.read_csv('data/train.csv')\n",
    "# test = pd.read_csv('test.csv')\n",
    "train.shape"
   ]
  },
  {
   "cell_type": "code",
   "execution_count": 4,
   "metadata": {
    "collapsed": false
   },
   "outputs": [
    {
     "data": {
      "text/plain": [
       "(42000, 784)"
      ]
     },
     "execution_count": 4,
     "metadata": {},
     "output_type": "execute_result"
    }
   ],
   "source": [
    "# 获得特征和标签\n",
    "X_train = train.drop('label', axis=1)\n",
    "Y_train = train['label']\n",
    "X_train.shape"
   ]
  },
  {
   "cell_type": "code",
   "execution_count": 5,
   "metadata": {
    "collapsed": false
   },
   "outputs": [],
   "source": [
    "# Normalize 正则化,==>[0,1]\n",
    "def normalize(x):\n",
    "    X_normale = (x-np.min(x))/(np.max(x)-np.min(x))\n",
    "    return X_normale"
   ]
  },
  {
   "cell_type": "code",
   "execution_count": 6,
   "metadata": {
    "collapsed": false
   },
   "outputs": [],
   "source": [
    "def normalize2(x):\n",
    "    X_normale = (x-x.mean(x))/x.std()\n",
    "    return X_normale"
   ]
  },
  {
   "cell_type": "code",
   "execution_count": 7,
   "metadata": {
    "collapsed": true
   },
   "outputs": [],
   "source": [
    "# 显示图片\n",
    "def display_image(image_data):\n",
    "    plt.imshow(image_data.reshape((28, 28)));\n",
    "    plt.show();"
   ]
  },
  {
   "cell_type": "code",
   "execution_count": 8,
   "metadata": {
    "collapsed": false
   },
   "outputs": [
    {
     "data": {
      "image/png": "[encoded data removed]",
      "text/plain": [
       "<matplotlib.figure.Figure at 0xd5e96d8>"
      ]
     },
     "metadata": {},
     "output_type": "display_data"
    }
   ],
   "source": [
    "image_data = X_train.values\n",
    "display_image(image_data[10])"
   ]
  },
  {
   "cell_type": "code",
   "execution_count": 9,
   "metadata": {
    "collapsed": false
   },
   "outputs": [],
   "source": [
    "# 处理数据\n",
    "X_train = normalize(X_train.values)"
   ]
  },
  {
   "cell_type": "code",
   "execution_count": 10,
   "metadata": {
    "collapsed": false
   },
   "outputs": [
    {
     "data": {
      "image/png": "[encoded data removed]",
      "text/plain": [
       "<matplotlib.figure.Figure at 0xd492278>"
      ]
     },
     "metadata": {},
     "output_type": "display_data"
    }
   ],
   "source": [
    "display_image(X_train[10])"
   ]
  },
  {
   "cell_type": "code",
   "execution_count": 11,
   "metadata": {
    "collapsed": false
   },
   "outputs": [],
   "source": [
    "# one hot\n",
    "\n",
    "from sklearn import preprocessing\n",
    "lb = preprocessing.LabelBinarizer()\n",
    "lb.fit(range(10))\n",
    "\n",
    "# convert labels to one-hot \n",
    "# 0 => [1 0 0 0 0 0 0 0 0 0]\n",
    "# 1 => [0 1 0 0 0 0 0 0 0 0]\n",
    "# ...\n",
    "# 9 => [0 0 0 0 0 0 0 0 0 1]\n",
    "def one_hot_encode(x):\n",
    "    one_hot = lb.transform(x)\n",
    "    return one_hot"
   ]
  },
  {
   "cell_type": "code",
   "execution_count": 12,
   "metadata": {
    "collapsed": true
   },
   "outputs": [],
   "source": [
    "Y_train = one_hot_encode(Y_train)"
   ]
  },
  {
   "cell_type": "code",
   "execution_count": 13,
   "metadata": {
    "collapsed": false
   },
   "outputs": [
    {
     "data": {
      "text/plain": [
       "array([[0, 1, 0, ..., 0, 0, 0],\n",
       "       [1, 0, 0, ..., 0, 0, 0],\n",
       "       [0, 1, 0, ..., 0, 0, 0],\n",
       "       ..., \n",
       "       [0, 0, 0, ..., 1, 0, 0],\n",
       "       [0, 0, 0, ..., 0, 0, 0],\n",
       "       [0, 0, 0, ..., 0, 0, 1]])"
      ]
     },
     "execution_count": 13,
     "metadata": {},
     "output_type": "execute_result"
    }
   ],
   "source": [
    "Y_train = np.array(Y_train)\n",
    "Y_train"
   ]
  },
  {
   "cell_type": "code",
   "execution_count": 14,
   "metadata": {
    "collapsed": false
   },
   "outputs": [],
   "source": [
    "from sklearn.model_selection import train_test_split\n",
    "X_train, X_test, Y_train, Y_test = train_test_split(X_train, Y_train, test_size=0.05, random_state=42)"
   ]
  },
  {
   "cell_type": "code",
   "execution_count": 15,
   "metadata": {
    "collapsed": false
   },
   "outputs": [
    {
     "data": {
      "text/plain": [
       "(39900, 784)"
      ]
     },
     "execution_count": 15,
     "metadata": {},
     "output_type": "execute_result"
    }
   ],
   "source": [
    "X_train.shape"
   ]
  },
  {
   "cell_type": "code",
   "execution_count": 16,
   "metadata": {
    "collapsed": false
   },
   "outputs": [],
   "source": [
    "# images\n",
    "x = tf.placeholder('float', shape=[None, X_train.shape[1]], name='image')\n",
    "# labels\n",
    "y = tf.placeholder('float', shape=[None, Y_train.shape[1]], name='label')"
   ]
  },
  {
   "cell_type": "code",
   "execution_count": 17,
   "metadata": {
    "collapsed": false
   },
   "outputs": [
    {
     "name": "stdout",
     "output_type": "stream",
     "text": [
      "(?, 28, 28, 1)\n"
     ]
    }
   ],
   "source": [
    "# (42000,784) => (42000,28,28,1)\n",
    "# reshape to 4d tensor\n",
    "image_width = 28\n",
    "image_height = 28\n",
    "\n",
    "# Input/Image\n",
    "image = tf.reshape(x, [-1, image_width, image_height, 1])\n",
    "print (image.get_shape()) "
   ]
  },
  {
   "cell_type": "code",
   "execution_count": 18,
   "metadata": {
    "collapsed": true
   },
   "outputs": [],
   "source": [
    "# # Convolution filter\n",
    "# filter_size_width = 5\n",
    "# filter_size_height = 5\n",
    "# conv_num_outputs = 32\n",
    "# color_channels = 1\n",
    "\n",
    "# # Input/Image\n",
    "# # x_input = tf.placeholder(tf.float32, shape=[None, 28, 28, color_channels])\n",
    "\n",
    "# # Weight and bias\n",
    "# weight = tf.Variable(tf.truncated_normal([filter_size_height, filter_size_width, color_channels, conv_num_outputs]))\n",
    "# bias = tf.Variable(tf.zeros(conv_num_outputs))"
   ]
  },
  {
   "cell_type": "code",
   "execution_count": 19,
   "metadata": {
    "collapsed": true
   },
   "outputs": [],
   "source": [
    "# weight\n",
    "def conv_weight(filter_size_height, filter_size_width, color_channels, conv_num_outputs):\n",
    "    return tf.Variable(tf.truncated_normal([filter_size_height, filter_size_width, color_channels, conv_num_outputs]))"
   ]
  },
  {
   "cell_type": "code",
   "execution_count": 20,
   "metadata": {
    "collapsed": true
   },
   "outputs": [],
   "source": [
    "# bias\n",
    "def conv_bias(conv_num_outputs):\n",
    "    return tf.Variable(tf.zeros(conv_num_outputs))"
   ]
  },
  {
   "cell_type": "code",
   "execution_count": 21,
   "metadata": {
    "collapsed": false
   },
   "outputs": [],
   "source": [
    "# convolution\n",
    "def conv2d(x, weight):\n",
    "    return tf.nn.conv2d(x, weight, strides=[1, 1, 1, 1], padding='SAME')"
   ]
  },
  {
   "cell_type": "code",
   "execution_count": 22,
   "metadata": {
    "collapsed": true
   },
   "outputs": [],
   "source": [
    "# pooling\n",
    "# [[0,3],\n",
    "#  [4,2]] => 4\n",
    "\n",
    "def max_pool(x):\n",
    "    return tf.nn.max_pool(x, ksize=[1, 2, 2, 1], strides=[1, 2, 2, 1], padding='SAME')"
   ]
  },
  {
   "cell_type": "code",
   "execution_count": 23,
   "metadata": {
    "collapsed": true
   },
   "outputs": [],
   "source": [
    "# conv \n",
    "# conv_layer = conv2d(image, weight)\n",
    "# conv_layer = tf.nn.bias_add(conv_layer, bias)\n",
    "# conv_layer = tf.nn.relu(conv_layer)\n",
    "# print(conv_layer.get_shape())\n",
    "\n",
    "# Set the CNN model \n",
    "# [[Conv2D->relu]*2 -> MaxPool2D -> Dropout]*2 -> Flatten -> Dense -> Dropout -> Out\n"
   ]
  },
  {
   "cell_type": "code",
   "execution_count": 24,
   "metadata": {
    "collapsed": false
   },
   "outputs": [
    {
     "name": "stdout",
     "output_type": "stream",
     "text": [
      "(?, 28, 28, 32)\n",
      "(?, 14, 14, 32)\n"
     ]
    }
   ],
   "source": [
    "# first convolutional layer\n",
    "\n",
    "weight = conv_weight(5, 5, 1, 32)\n",
    "bias = conv_bias(32)\n",
    "\n",
    "# conv2d \n",
    "conv_layer = conv2d(image, weight)\n",
    "conv_layer = tf.nn.bias_add(conv_layer, bias)\n",
    "conv_layer = tf.nn.relu(conv_layer)\n",
    "print(conv_layer.get_shape())\n",
    "\n",
    "# Max Pooling\n",
    "conv_layer = max_pool(conv_layer)\n",
    "print(conv_layer.get_shape())"
   ]
  },
  {
   "cell_type": "code",
   "execution_count": 26,
   "metadata": {
    "collapsed": false
   },
   "outputs": [
    {
     "name": "stdout",
     "output_type": "stream",
     "text": [
      "(?, 14, 14, 64)\n",
      "(?, 7, 7, 64)\n"
     ]
    }
   ],
   "source": [
    "# second convolutional layer\n",
    "weight = conv_weight(3, 3, 32, 64)\n",
    "bias = conv_bias(64)\n",
    "\n",
    "# conv2d\n",
    "conv_layer = conv2d(conv_layer, weight)\n",
    "conv_layer = tf.nn.bias_add(conv_layer, bias)\n",
    "conv_layer = tf.nn.relu(conv_layer)\n",
    "print(conv_layer.get_shape())\n",
    "\n",
    "# Second Max Pooling\n",
    "conv_layer = max_pool(conv_layer)\n",
    "print(conv_layer.get_shape())"
   ]
  },
  {
   "cell_type": "code",
   "execution_count": 27,
   "metadata": {
    "collapsed": false
   },
   "outputs": [],
   "source": [
    "# dropout\n",
    "conv_layer = tf.nn.dropout(conv_layer, 0.25)"
   ]
  },
  {
   "cell_type": "code",
   "execution_count": 28,
   "metadata": {
    "collapsed": false
   },
   "outputs": [
    {
     "name": "stdout",
     "output_type": "stream",
     "text": [
      "(?, 3136)\n"
     ]
    }
   ],
   "source": [
    "x_flatten = tf.contrib.layers.flatten(conv_layer)\n",
    "print(x_flatten.get_shape())"
   ]
  },
  {
   "cell_type": "code",
   "execution_count": 29,
   "metadata": {
    "collapsed": false
   },
   "outputs": [
    {
     "name": "stdout",
     "output_type": "stream",
     "text": [
      "(?, 256)\n"
     ]
    }
   ],
   "source": [
    "fc_layer = tf.contrib.layers.fully_connected(x_flatten, 256, activation_fn=tf.nn.relu)\n",
    "print(fc_layer.get_shape())"
   ]
  },
  {
   "cell_type": "code",
   "execution_count": 30,
   "metadata": {
    "collapsed": true
   },
   "outputs": [],
   "source": [
    "drop_out = tf.nn.dropout(fc_layer, 0.5)"
   ]
  },
  {
   "cell_type": "code",
   "execution_count": 31,
   "metadata": {
    "collapsed": false
   },
   "outputs": [
    {
     "name": "stdout",
     "output_type": "stream",
     "text": [
      "(?, 10)\n"
     ]
    }
   ],
   "source": [
    "output = tf.contrib.layers.fully_connected(drop_out, 10, activation_fn=None)\n",
    "print(output.get_shape())"
   ]
  },
  {
   "cell_type": "code",
   "execution_count": 32,
   "metadata": {
    "collapsed": true
   },
   "outputs": [],
   "source": [
    "# Model\n",
    "logits = output\n",
    "\n",
    "# Name logits Tensor, so that is can be loaded from disk after training\n",
    "logits = tf.identity(logits, name='logits')\n",
    "\n",
    "# Loss and Optimizer\n",
    "cost = tf.reduce_mean(tf.nn.softmax_cross_entropy_with_logits(logits=logits, labels=y))\n",
    "# defalut learning_rate=0.001\n",
    "optimizer = tf.train.AdamOptimizer(learning_rate=0.0005).minimize(cost)\n",
    "\n",
    "# Accuracy\n",
    "correct_pred = tf.equal(tf.argmax(logits, 1), tf.argmax(y, 1))\n",
    "accuracy = tf.reduce_mean(tf.cast(correct_pred, tf.float32), name='accuracy')"
   ]
  },
  {
   "cell_type": "code",
   "execution_count": 33,
   "metadata": {
    "collapsed": true
   },
   "outputs": [],
   "source": [
    "def batch_features_labels(batch_size):\n",
    "    start = 0\n",
    "    shuf = np.arange(len(X_train))\n",
    "    np.random.shuffle(shuf)\n",
    "    features = X_train[shuf]\n",
    "    labels = Y_train[shuf]\n",
    "    end = min(start + batch_size, len(X_train))    \n",
    "    return features[start:end], labels[start:end]"
   ]
  },
  {
   "cell_type": "code",
   "execution_count": 34,
   "metadata": {
    "collapsed": false
   },
   "outputs": [],
   "source": [
    "test = pd.read_csv('data/test.csv')\n",
    "test = normalize(test.values)"
   ]
  },
  {
   "cell_type": "code",
   "execution_count": 35,
   "metadata": {
    "collapsed": false
   },
   "outputs": [
    {
     "data": {
      "text/plain": [
       "array([[ 0.,  0.,  0., ...,  0.,  0.,  0.],\n",
       "       [ 0.,  0.,  0., ...,  0.,  0.,  0.],\n",
       "       [ 0.,  0.,  0., ...,  0.,  0.,  0.],\n",
       "       ..., \n",
       "       [ 0.,  0.,  0., ...,  0.,  0.,  0.],\n",
       "       [ 0.,  0.,  0., ...,  0.,  0.,  0.],\n",
       "       [ 0.,  0.,  0., ...,  0.,  0.,  0.]])"
      ]
     },
     "execution_count": 35,
     "metadata": {},
     "output_type": "execute_result"
    }
   ],
   "source": [
    "test_data = np.array(test)\n",
    "test_data"
   ]
  },
  {
   "cell_type": "code",
   "execution_count": 45,
   "metadata": {
    "collapsed": true
   },
   "outputs": [],
   "source": [
    "epochs = 201\n",
    "batch_size = 128\n",
    "keep_probability = 0.75\n",
    "keep_prob = tf.placeholder(tf.float32)"
   ]
  },
  {
   "cell_type": "code",
   "execution_count": 46,
   "metadata": {
    "collapsed": false
   },
   "outputs": [
    {
     "name": "stdout",
     "output_type": "stream",
     "text": [
      "setp 0,the train accuracy: 0.2734375\n",
      "setp 50,the train accuracy: 0.9765625\n",
      "setp 100,the train accuracy: 0.984375\n",
      "setp 150,the train accuracy: 0.9921875\n",
      "Testing Accuracy: 0.9809523820877075\n"
     ]
    }
   ],
   "source": [
    "\n",
    "with tf.Session() as sess:\n",
    "    # Initializing the variables\n",
    "    sess.run(tf.global_variables_initializer())\n",
    "    \n",
    "    total_batch = math.ceil(len(X_train)/batch_size)\n",
    "    # Training cycle\n",
    "    for epoch in range(epochs):\n",
    "        \n",
    "        for i in range(total_batch):\n",
    "            batch_x = X_train[batch_size*i:batch_size*(i+1)]\n",
    "            batch_y = Y_train[batch_size*i:batch_size*(i+1)]\n",
    "            sess.run(optimizer, feed_dict={x: batch_x, y: batch_y})\n",
    "            loss = sess.run(cost, feed_dict={x: batch_x, y: batch_y, keep_prob: keep_probability})     \n",
    "            \n",
    "#         batch_x, batch_y = batch_features_labels(batch_size)\n",
    "#         sess.run(optimizer, feed_dict={x: batch_x, y: batch_y, keep_prob: keep_probability})\n",
    "#         # Calculate batch loss and accuracy\n",
    "#         loss = sess.run(cost, feed_dict={x: batch_x, y: batch_y, keep_prob: 1.})\n",
    "        \n",
    "        if epoch % 50 == 0:\n",
    "            valid_acc = sess.run(accuracy, feed_dict={x: X_train[:batch_size],\n",
    "                                                      y: Y_train[:batch_size],\n",
    "                                                      keep_prob: 1.})\n",
    "            print('epoch {},the train accuracy: {}'.format(epoch, valid_acc))\n",
    "\n",
    "    # Calculate Test Accuracy\n",
    "    test_acc = sess.run(accuracy, feed_dict={x: X_test,\n",
    "                                             y: Y_test,\n",
    "                                             keep_prob: 1.})\n",
    "    \n",
    "    print('Testing Accuracy: {}'.format(test_acc))\n",
    "    \n",
    "    # save\n",
    "    save_dir = 'save/dig_save'\n",
    "    saver = tf.train.Saver()\n",
    "    saver.save(sess, save_dir)      "
   ]
  },
  {
   "cell_type": "code",
   "execution_count": 47,
   "metadata": {
    "collapsed": false
   },
   "outputs": [],
   "source": [
    "# # test 1\n",
    "# with tf.Session() as sess:\n",
    "#     sess.run(tf.global_variables_initializer())\n",
    "#     test_prob = sess.run(logits,feed_dict={x: test})\n",
    "#     test_labels = np.argmax(test_prob, axis=1)\n",
    "    \n",
    "#     submission = pd.DataFrame(data = {'ImageId':(np.arange(test_labels.shape[0])+1),'Label':test_labels})\n",
    "#     submission.to_csv('digit_submission.csv',index=False)"
   ]
  },
  {
   "cell_type": "code",
   "execution_count": 49,
   "metadata": {
    "collapsed": false
   },
   "outputs": [
    {
     "name": "stdout",
     "output_type": "stream",
     "text": [
      "INFO:tensorflow:Restoring parameters from save/dig_save\n"
     ]
    }
   ],
   "source": [
    "# test result \n",
    "loaded_Graph = tf.Graph()\n",
    "with tf.Session(graph=loaded_Graph) as sess:\n",
    "    loader = tf.train.import_meta_graph(save_dir +'.meta')\n",
    "    loader.restore(sess, save_dir)    \n",
    "    # get tensors\n",
    "    loaded_x = loaded_Graph.get_tensor_by_name('image:0')\n",
    "    loaded_y = loaded_Graph.get_tensor_by_name('label:0')\n",
    "    loaded_prob = loaded_Graph.get_tensor_by_name('logits:0')\n",
    "    \n",
    "    test_prob = sess.run(tf.argmax(loaded_prob,1), feed_dict = {loaded_x: test})    \n",
    "    "
   ]
  },
  {
   "cell_type": "code",
   "execution_count": 50,
   "metadata": {
    "collapsed": true
   },
   "outputs": [],
   "source": [
    "submission = pd.DataFrame(data = {'ImageId':(np.arange(test_prob.shape[0])+1),'Label':test_prob})\n",
    "submission.to_csv('digit_submission0.csv',index=False)"
   ]
  },
  {
   "cell_type": "code",
   "execution_count": null,
   "metadata": {
    "collapsed": true
   },
   "outputs": [],
   "source": []
  }
 ],
 "metadata": {
  "kernelspec": {
   "display_name": "python3.5",
   "language": "python",
   "name": "python3.5"
  },
  "language_info": {
   "codemirror_mode": {
    "name": "ipython",
    "version": 3
   },
   "file_extension": ".py",
   "mimetype": "text/x-python",
   "name": "python",
   "nbconvert_exporter": "python",
   "pygments_lexer": "ipython3",
   "version": "3.5.3"
  },
  "latex_envs": {
   "LaTeX_envs_menu_present": true,
   "autocomplete": true,
   "bibliofile": "biblio.bib",
   "cite_by": "apalike",
   "current_citInitial": 1,
   "eqLabelWithNumbers": true,
   "eqNumInitial": 1,
   "hotkeys": {
    "equation": "Ctrl-E",
    "itemize": "Ctrl-I"
   },
   "labels_anchors": false,
   "latex_user_defs": false,
   "report_style_numbering": false,
   "user_envs_cfg": false
  }
 },
 "nbformat": 4,
 "nbformat_minor": 2
}
